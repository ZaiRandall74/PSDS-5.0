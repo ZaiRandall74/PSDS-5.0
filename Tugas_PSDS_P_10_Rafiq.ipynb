{
  "nbformat": 4,
  "nbformat_minor": 0,
  "metadata": {
    "colab": {
      "provenance": []
    },
    "kernelspec": {
      "name": "python3",
      "display_name": "Python 3"
    },
    "language_info": {
      "name": "python"
    }
  },
  "cells": [
    {
      "cell_type": "code",
      "execution_count": null,
      "metadata": {
        "id": "EaQlZEFYohHA"
      },
      "outputs": [],
      "source": [
        "for val in sequence:\n",
        "  loop body"
      ]
    },
    {
      "cell_type": "code",
      "source": [
        "# Program untuk Menghitung Jumlah Semua Angka dalam Seuah List\n",
        "L1 = [2, 4, 5, 7, 9]\n",
        "jumlah = 0\n",
        "\n",
        "# Iterasi di dalam List\n",
        "for i in L1:\n",
        "  jumlah = jumlah + i\n",
        "\n",
        "print(jumlah)"
      ],
      "metadata": {
        "colab": {
          "base_uri": "https://localhost:8080/"
        },
        "id": "BTvmdZtXov75",
        "outputId": "88011d46-aa9b-471a-b9c3-d29954fdfe97"
      },
      "execution_count": null,
      "outputs": [
        {
          "output_type": "stream",
          "name": "stdout",
          "text": [
            "27\n"
          ]
        }
      ]
    },
    {
      "cell_type": "code",
      "source": [
        "# Program untuk Melakukan Iterasi di dalam List melalui Indeks\n",
        "minuman = [\"Teh\", \"Boba\", \"Kopi\", \"Susu\"]\n",
        "p = len(minuman)\n",
        "\n",
        "# Iterasi di dalam List melalui Indeks\n",
        "for i in range(p):\n",
        "  print(minuman[i])"
      ],
      "metadata": {
        "colab": {
          "base_uri": "https://localhost:8080/"
        },
        "id": "5m7c_D-apOHl",
        "outputId": "8e75b8ba-fa9a-4b27-b2bf-5a1d3d0efcac"
      },
      "execution_count": null,
      "outputs": [
        {
          "output_type": "stream",
          "name": "stdout",
          "text": [
            "Teh\n",
            "Boba\n",
            "Kopi\n",
            "Susu\n"
          ]
        }
      ]
    },
    {
      "cell_type": "code",
      "source": [
        "# Contoh for loop Menggunakan else\n",
        "for i in range(p):\n",
        "  print(minuman[i])\n",
        "else:\n",
        "  print(\"Elemen Sudah Habis\")"
      ],
      "metadata": {
        "colab": {
          "base_uri": "https://localhost:8080/"
        },
        "id": "C-tL30j7pmWU",
        "outputId": "45d6aee0-506b-4f11-97f4-5ffd884b1670"
      },
      "execution_count": null,
      "outputs": [
        {
          "output_type": "stream",
          "name": "stdout",
          "text": [
            "Teh\n",
            "Boba\n",
            "Kopi\n",
            "Susu\n",
            "Elemen Sudah Habis\n"
          ]
        }
      ]
    },
    {
      "cell_type": "code",
      "source": [
        "while test_expression:\n",
        "  Body of while"
      ],
      "metadata": {
        "id": "kfGP6_bUqlF3"
      },
      "execution_count": null,
      "outputs": []
    },
    {
      "cell_type": "code",
      "source": [
        "# Program untuk Menjumlahkan Semua\n",
        "# Bilangan Asli Hingga Suku ke-n\n",
        "# Jum = 1 + 2 + 3 + ... + n\n",
        "\n",
        "n = 10\n",
        "jumlah = 0\n",
        "i = 1\n",
        "\n",
        "while i <= n:\n",
        "  jumlah = jumlah + i\n",
        "  i = i + 1\n",
        "\n",
        "print(jumlah)"
      ],
      "metadata": {
        "colab": {
          "base_uri": "https://localhost:8080/"
        },
        "id": "AmVyfA7hqwtx",
        "outputId": "49e0c49a-7206-460e-9f3e-b077f95034da"
      },
      "execution_count": null,
      "outputs": [
        {
          "output_type": "stream",
          "name": "stdout",
          "text": [
            "55\n"
          ]
        }
      ]
    },
    {
      "cell_type": "code",
      "source": [
        "jum = 0\n",
        "i = 1\n",
        "while i <= n:\n",
        "  jum = jum + i\n",
        "  i = i + 1\n",
        "else:\n",
        "  print(jum) # Dieksekusi diluar Looping"
      ],
      "metadata": {
        "colab": {
          "base_uri": "https://localhost:8080/"
        },
        "id": "tlHazdebrKWu",
        "outputId": "721e1de5-095a-49d9-ee66-152f43933fc2"
      },
      "execution_count": null,
      "outputs": [
        {
          "output_type": "stream",
          "name": "stdout",
          "text": [
            "55\n"
          ]
        }
      ]
    },
    {
      "cell_type": "code",
      "source": [
        "if test expression:\n",
        "  statement(s)"
      ],
      "metadata": {
        "id": "m7ThZP2RDUYw"
      },
      "execution_count": null,
      "outputs": []
    },
    {
      "cell_type": "code",
      "source": [
        "# Jika Angka adalah Bilangan Positif maka print \"adalah Bilangan Positif\"\n",
        "\n",
        "angka = 3\n",
        "if angka > 0:\n",
        "  print(angka, \"adalah Bilangan Positif.\")\n",
        "print(\"Pernyataan ini Selalu Ditampilkan\")\n",
        "\n",
        "angka = -1\n",
        "if angka > 0:\n",
        "  print(angka, \"adalah Bilangan Positif.\")\n",
        "print(\"Pernyataan ini juga Selalu Ditampilkan\")"
      ],
      "metadata": {
        "colab": {
          "base_uri": "https://localhost:8080/"
        },
        "id": "quBjdjDED5bZ",
        "outputId": "cb8cf25e-b7c4-4c92-c3c3-cbff3559a343"
      },
      "execution_count": 2,
      "outputs": [
        {
          "output_type": "stream",
          "name": "stdout",
          "text": [
            "3 adalah Bilangan Positif.\n",
            "Pernyataan ini Selalu Ditampilkan\n",
            "Pernyataan ini juga Selalu Ditampilkan\n"
          ]
        }
      ]
    },
    {
      "cell_type": "code",
      "source": [
        "if test expression:\n",
        "  Body of if\n",
        "else:\n",
        "  Body of else"
      ],
      "metadata": {
        "id": "wRR5R8XnEurm"
      },
      "execution_count": null,
      "outputs": []
    },
    {
      "cell_type": "code",
      "source": [
        "# Program Disusun untuk Mengecek Apakah Angka Tersebut Kurang dari 0 atau Tidak\n",
        "# dan Menampilkan Tulisan yang Sesuai\n",
        "\n",
        "angka = 3\n",
        "\n",
        "if angka >= 0:\n",
        "  print(\"Bilangan Lebih dari atau Samadengan 0\")\n",
        "else:\n",
        "  print(\"Bilangan Kurang dari 0\")"
      ],
      "metadata": {
        "colab": {
          "base_uri": "https://localhost:8080/"
        },
        "id": "Z1doc-BMEz_6",
        "outputId": "84009368-43c5-484d-8724-566c4d3ed224"
      },
      "execution_count": 3,
      "outputs": [
        {
          "output_type": "stream",
          "name": "stdout",
          "text": [
            "Bilangan Lebih dari atau Samadengan 0\n"
          ]
        }
      ]
    },
    {
      "cell_type": "code",
      "source": [
        "# Program Disusun untuk Mengecek Apakah Dua Buah Angka Sama atau Tidak\n",
        "# dan Menampilkan Tulisan yang Sesuia\n",
        "\n",
        "a = 5\n",
        "b = 5\n",
        "\n",
        "if a == b:\n",
        "  print(\"a dan b Bernilai Sama\")\n",
        "else:\n",
        "  print(\"a dan b Bernilai Berbeda\")\n",
        "  print(\"elajar If Else\")"
      ],
      "metadata": {
        "colab": {
          "base_uri": "https://localhost:8080/"
        },
        "id": "J7sdyMyhFSaJ",
        "outputId": "84be11cd-7d2a-4571-9201-9aee862961e6"
      },
      "execution_count": 4,
      "outputs": [
        {
          "output_type": "stream",
          "name": "stdout",
          "text": [
            "a dan b Bernilai Sama\n"
          ]
        }
      ]
    },
    {
      "cell_type": "code",
      "source": [
        "# Program Disusun untuk Mengecek Apakah Perbandingan dua Buah Angka\n",
        "# dan Menampilkan Tulisan yang Sesuai\n",
        "\n",
        "# Membaca Dua Angka\n",
        "bil1 = int(input(\"Masukkan Bilangan Pertama : \"))\n",
        "bil2 = int(input(\"Masukkan Bilangan Kedua : \"))\n",
        "\n",
        "# Memilih Bilangan yang Lebih Besar\n",
        "if bil1 > bil2:\n",
        "  bil_bulat_terbesar = bil1\n",
        "else:\n",
        "  bil_bulat_terbesar = bil2\n",
        "\n",
        "# Menampilkan Hasil\n",
        "print(\"Bilangan yang Lebih Besar adalah :\", bil_bulat_terbesar)"
      ],
      "metadata": {
        "colab": {
          "base_uri": "https://localhost:8080/"
        },
        "id": "Xem0EMrbFrYG",
        "outputId": "379056c0-7619-4a3c-d487-7d557464009a"
      },
      "execution_count": 6,
      "outputs": [
        {
          "output_type": "stream",
          "name": "stdout",
          "text": [
            "Masukkan Bilangan Pertama : 5\n",
            "Masukkan Bilangan Kedua : 6\n",
            "Bilangan yang Lebih Besar adalah : 6\n"
          ]
        }
      ]
    },
    {
      "cell_type": "code",
      "source": [
        "if test expression:\n",
        "  Body of if\n",
        "elif test expression:\n",
        "  Body of elif\n",
        "else:\n",
        "  Body of else"
      ],
      "metadata": {
        "id": "28mEQk6uGd4u"
      },
      "execution_count": null,
      "outputs": []
    },
    {
      "cell_type": "code",
      "source": [
        "# Program Disusun untuk Mengecek Apakah Angka Merupakan Bilangan Positif, Negatif, atau Nol\n",
        "# dan Menampilkan Tulisan yang Sesuai\n",
        "\n",
        "angka = 3.4\n",
        "\n",
        "if angka > 0:\n",
        "  print(\"Bilangan Positif\")\n",
        "elif angka == 0:\n",
        "  print(\"Nol\")\n",
        "else:\n",
        "  print(\"Bilangan Negatif\")"
      ],
      "metadata": {
        "colab": {
          "base_uri": "https://localhost:8080/"
        },
        "id": "tMYeoTxYGock",
        "outputId": "36551a52-c6a5-4b4d-a857-c6a55d974da1"
      },
      "execution_count": 7,
      "outputs": [
        {
          "output_type": "stream",
          "name": "stdout",
          "text": [
            "Bilangan Positif\n"
          ]
        }
      ]
    },
    {
      "cell_type": "code",
      "source": [
        "# Satement If\n",
        "x = 4\n",
        "if x % 2 == 0: # Jika x Dibagi 2 Sisanya Samadengan 0\n",
        "  print(\"x Habis Dibagi Dua\")\n",
        "\n",
        "# Statement if ... elif ... else\n",
        "x = 7\n",
        "if x % 2 == 0: # Jika x Dibagi 2 Sisanya Samadengan 0\n",
        "  print(\"x Habis Dibagi Dua\")\n",
        "elif x % 3 == 0: # Jika x Dibagi 3 Sisanya Samadengan 0\n",
        "  print(\"x Habis Dibagi Tiga\")\n",
        "elif x % 5 == 0: # Jika x Dibagi 5 Sisanya Samadengan 0\n",
        "  print(\"x Habis Dibagi Lima\")\n",
        "else:\n",
        "  print(\"x Tidak Habis Dibagi Dua, Tiga, ataupun Lima\")"
      ],
      "metadata": {
        "colab": {
          "base_uri": "https://localhost:8080/"
        },
        "id": "1djtikcpHIWd",
        "outputId": "ef3168b6-c8b2-40f7-9d9b-b219264008fc"
      },
      "execution_count": 8,
      "outputs": [
        {
          "output_type": "stream",
          "name": "stdout",
          "text": [
            "x Habis Dibagi Dua\n",
            "x Tidak Habis Dibagi Dua, Tiga, ataupun Lima\n"
          ]
        }
      ]
    },
    {
      "cell_type": "code",
      "source": [
        "# Program Disusun untuk Mengecek Apakah Angka Merupakan Bilangan Positif, Negatif, atau Nol\n",
        "# dan Menampilkan Tulisan yang Sesuai\n",
        "\n",
        "angka = float(input(\"Masukkan Angka : \"))\n",
        "if angka >= 0:\n",
        "  if angka == 0:\n",
        "    print(\"Nol\")\n",
        "  else:\n",
        "    print(\"Bilangan Positif\")\n",
        "else:\n",
        "  print(\"Bilangan Negatif\")"
      ],
      "metadata": {
        "colab": {
          "base_uri": "https://localhost:8080/"
        },
        "id": "aP_H6O5ZH_tL",
        "outputId": "58156937-a1df-4f4e-b0d7-743d0320a776"
      },
      "execution_count": 9,
      "outputs": [
        {
          "output_type": "stream",
          "name": "stdout",
          "text": [
            "Masukkan Angka : 7\n",
            "Bilangan Positif\n"
          ]
        }
      ]
    },
    {
      "cell_type": "markdown",
      "source": [
        "### Latihan 1"
      ],
      "metadata": {
        "id": "KjjCx-iyp6E-"
      }
    },
    {
      "cell_type": "code",
      "source": [
        "list_tagihan = [50000, 75000, -150000, 125000, 300000, -50000, 200000]\n",
        "total_tagihan = 0\n",
        "\n",
        "for i in list_tagihan:\n",
        "  total_tagihan += i\n",
        "\n",
        "print(total_tagihan)"
      ],
      "metadata": {
        "colab": {
          "base_uri": "https://localhost:8080/"
        },
        "id": "prOSwIQlp2fA",
        "outputId": "84455149-d910-42da-e00b-d838c91f84b4"
      },
      "execution_count": null,
      "outputs": [
        {
          "output_type": "stream",
          "name": "stdout",
          "text": [
            "550000\n"
          ]
        }
      ]
    },
    {
      "cell_type": "markdown",
      "source": [
        "### Latihan 2"
      ],
      "metadata": {
        "id": "s7X70d7WrnX6"
      }
    },
    {
      "cell_type": "code",
      "source": [
        "tagihan = [50000, 75000, 125000, 300000, 200000]\n",
        "total_tagihan = 0\n",
        "p = len(tagihan)\n",
        "i = 1\n",
        "\n",
        "while i <= p:\n",
        "  total_tagihan = total_tagihan + tagihan[i-1]\n",
        "  i = i + 1\n",
        "else:\n",
        "  print(total_tagihan)"
      ],
      "metadata": {
        "colab": {
          "base_uri": "https://localhost:8080/"
        },
        "id": "FlcQynawxnSx",
        "outputId": "186483e5-d9a7-44c4-edd9-c6b199b96d80"
      },
      "execution_count": null,
      "outputs": [
        {
          "output_type": "stream",
          "name": "stdout",
          "text": [
            "750000\n"
          ]
        }
      ]
    },
    {
      "cell_type": "markdown",
      "source": [
        "### Latihan 3"
      ],
      "metadata": {
        "id": "hQas9tw7If0U"
      }
    },
    {
      "cell_type": "code",
      "source": [
        "harga_produk = int(input(\"Masukkan Harga Barang : \"))\n",
        "\n",
        "if harga_produk > 200000:\n",
        "  kategori_input = \"Mahal\"\n",
        "  harga_bayar = harga_produk - (harga_produk * 0.4)\n",
        "elif 100000 < harga_produk <= 200000:\n",
        "  kategori_input = \"Murah\"\n",
        "  harga_bayar = harga_produk - (harga_produk * 0.2)\n",
        "elif 0 <= harga_produk <= 100000:\n",
        "  kategori_input = \"Murah\"\n",
        "  harga_bayar = harga_produk - (harga_produk * 0.1)\n",
        "else:\n",
        "  print(\"Masukkan Harga Produk yang Sesuai\")\n",
        "\n",
        "print(f\"{kategori_input}, Harga yang Perlu Dibayar adalah {harga_bayar}\")"
      ],
      "metadata": {
        "colab": {
          "base_uri": "https://localhost:8080/"
        },
        "id": "Hc4Drt-NIhvP",
        "outputId": "7c85ba5c-a1a9-45f6-c227-3fd8ca10f534"
      },
      "execution_count": 12,
      "outputs": [
        {
          "output_type": "stream",
          "name": "stdout",
          "text": [
            "Masukkan Harga Barang : 400000\n",
            "Mahal, Harga yang Perlu Dibayar adalah 240000.0\n"
          ]
        }
      ]
    }
  ]
}