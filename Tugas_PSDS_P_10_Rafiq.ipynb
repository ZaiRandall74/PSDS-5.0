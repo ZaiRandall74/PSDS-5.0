{
  "nbformat": 4,
  "nbformat_minor": 0,
  "metadata": {
    "colab": {
      "provenance": []
    },
    "kernelspec": {
      "name": "python3",
      "display_name": "Python 3"
    },
    "language_info": {
      "name": "python"
    }
  },
  "cells": [
    {
      "cell_type": "code",
      "execution_count": null,
      "metadata": {
        "id": "EaQlZEFYohHA"
      },
      "outputs": [],
      "source": [
        "for val in sequence:\n",
        "  loop body"
      ]
    },
    {
      "cell_type": "code",
      "source": [
        "# Program untuk Menghitung Jumlah Semua Angka dalam Seuah List\n",
        "L1 = [2, 4, 5, 7, 9]\n",
        "jumlah = 0\n",
        "\n",
        "# Iterasi di dalam List\n",
        "for i in L1:\n",
        "  jumlah = jumlah + i\n",
        "\n",
        "print(jumlah)"
      ],
      "metadata": {
        "colab": {
          "base_uri": "https://localhost:8080/"
        },
        "id": "BTvmdZtXov75",
        "outputId": "88011d46-aa9b-471a-b9c3-d29954fdfe97"
      },
      "execution_count": null,
      "outputs": [
        {
          "output_type": "stream",
          "name": "stdout",
          "text": [
            "27\n"
          ]
        }
      ]
    },
    {
      "cell_type": "code",
      "source": [
        "# Program untuk Melakukan Iterasi di dalam List melalui Indeks\n",
        "minuman = [\"Teh\", \"Boba\", \"Kopi\", \"Susu\"]\n",
        "p = len(minuman)\n",
        "\n",
        "# Iterasi di dalam List melalui Indeks\n",
        "for i in range(p):\n",
        "  print(minuman[i])"
      ],
      "metadata": {
        "colab": {
          "base_uri": "https://localhost:8080/"
        },
        "id": "5m7c_D-apOHl",
        "outputId": "8e75b8ba-fa9a-4b27-b2bf-5a1d3d0efcac"
      },
      "execution_count": null,
      "outputs": [
        {
          "output_type": "stream",
          "name": "stdout",
          "text": [
            "Teh\n",
            "Boba\n",
            "Kopi\n",
            "Susu\n"
          ]
        }
      ]
    },
    {
      "cell_type": "code",
      "source": [
        "# Contoh for loop Menggunakan else\n",
        "for i in range(p):\n",
        "  print(minuman[i])\n",
        "else:\n",
        "  print(\"Elemen Sudah Habis\")"
      ],
      "metadata": {
        "colab": {
          "base_uri": "https://localhost:8080/"
        },
        "id": "C-tL30j7pmWU",
        "outputId": "45d6aee0-506b-4f11-97f4-5ffd884b1670"
      },
      "execution_count": null,
      "outputs": [
        {
          "output_type": "stream",
          "name": "stdout",
          "text": [
            "Teh\n",
            "Boba\n",
            "Kopi\n",
            "Susu\n",
            "Elemen Sudah Habis\n"
          ]
        }
      ]
    },
    {
      "cell_type": "code",
      "source": [
        "while test_expression:\n",
        "  Body of while"
      ],
      "metadata": {
        "id": "kfGP6_bUqlF3"
      },
      "execution_count": null,
      "outputs": []
    },
    {
      "cell_type": "code",
      "source": [
        "# Program untuk Menjumlahkan Semua\n",
        "# Bilangan Asli Hingga Suku ke-n\n",
        "# Jum = 1 + 2 + 3 + ... + n\n",
        "\n",
        "n = 10\n",
        "jumlah = 0\n",
        "i = 1\n",
        "\n",
        "while i <= n:\n",
        "  jumlah = jumlah + i\n",
        "  i = i + 1\n",
        "\n",
        "print(jumlah)"
      ],
      "metadata": {
        "colab": {
          "base_uri": "https://localhost:8080/"
        },
        "id": "AmVyfA7hqwtx",
        "outputId": "49e0c49a-7206-460e-9f3e-b077f95034da"
      },
      "execution_count": null,
      "outputs": [
        {
          "output_type": "stream",
          "name": "stdout",
          "text": [
            "55\n"
          ]
        }
      ]
    },
    {
      "cell_type": "code",
      "source": [
        "jum = 0\n",
        "i = 1\n",
        "while i <= n:\n",
        "  jum = jum + i\n",
        "  i = i + 1\n",
        "else:\n",
        "  print(jum) # Dieksekusi diluar Looping"
      ],
      "metadata": {
        "colab": {
          "base_uri": "https://localhost:8080/"
        },
        "id": "tlHazdebrKWu",
        "outputId": "721e1de5-095a-49d9-ee66-152f43933fc2"
      },
      "execution_count": null,
      "outputs": [
        {
          "output_type": "stream",
          "name": "stdout",
          "text": [
            "55\n"
          ]
        }
      ]
    },
    {
      "cell_type": "markdown",
      "source": [
        "### Latihan 1"
      ],
      "metadata": {
        "id": "KjjCx-iyp6E-"
      }
    },
    {
      "cell_type": "code",
      "source": [
        "list_tagihan = [50000, 75000, -150000, 125000, 300000, -50000, 200000]\n",
        "total_tagihan = 0\n",
        "\n",
        "for i in list_tagihan:\n",
        "  total_tagihan += i\n",
        "\n",
        "print(total_tagihan)"
      ],
      "metadata": {
        "colab": {
          "base_uri": "https://localhost:8080/"
        },
        "id": "prOSwIQlp2fA",
        "outputId": "84455149-d910-42da-e00b-d838c91f84b4"
      },
      "execution_count": null,
      "outputs": [
        {
          "output_type": "stream",
          "name": "stdout",
          "text": [
            "550000\n"
          ]
        }
      ]
    },
    {
      "cell_type": "markdown",
      "source": [
        "### Latihan 2"
      ],
      "metadata": {
        "id": "s7X70d7WrnX6"
      }
    },
    {
      "cell_type": "code",
      "source": [
        "tagihan = [50000, 75000, 125000, 300000, 200000]\n",
        "total_tagihan = 0\n",
        "p = len(tagihan)\n",
        "i = 1\n",
        "\n",
        "while i <= p:\n",
        "  total_tagihan = total_tagihan + tagihan[i-1]\n",
        "  i = i + 1\n",
        "else:\n",
        "  print(total_tagihan)"
      ],
      "metadata": {
        "colab": {
          "base_uri": "https://localhost:8080/"
        },
        "id": "FlcQynawxnSx",
        "outputId": "186483e5-d9a7-44c4-edd9-c6b199b96d80"
      },
      "execution_count": 35,
      "outputs": [
        {
          "output_type": "stream",
          "name": "stdout",
          "text": [
            "750000\n"
          ]
        }
      ]
    }
  ]
}