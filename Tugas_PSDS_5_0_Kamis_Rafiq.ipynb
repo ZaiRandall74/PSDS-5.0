{
  "nbformat": 4,
  "nbformat_minor": 0,
  "metadata": {
    "colab": {
      "provenance": []
    },
    "kernelspec": {
      "name": "python3",
      "display_name": "Python 3"
    },
    "language_info": {
      "name": "python"
    }
  },
  "cells": [
    {
      "cell_type": "markdown",
      "source": [
        "Pengenalan Python"
      ],
      "metadata": {
        "id": "peMN0J8W_QH6"
      }
    },
    {
      "cell_type": "markdown",
      "source": [
        "Phyton adalah Bahasa pemrograman tingkat tinggi dengan dynamic semantics, bersifat object oriented, dan interpretatif. Bahasa pemrograman ini fokus dikembangkan pada keterbacaan bahasa pemrograman.\n",
        "1. Bahasa Pemrograman Tingkat Tinggi (High Level Programming) Artinya sintaks kode lebih mudah ditafsirkan oleh manusia.\n",
        "2. Interpretatif Ini artinya bahasa ini memerlukan intrepeter atau penerjemah Ini memungkinkan kita untuk menggunakan Bahasa yang lebih mudah kita pahami.\n",
        "3. Object Oriented. Ini berarti bahwa bahasa pemrograman ini berorientasi kepada objek. Hal ini membuat Phyton lebih mudah untuk dikembangkan.\n",
        "4. Dynamic Semantic Phyton secara otomatis akan menyesuaikan tipe dari suatu variable berdasarkan inputnya.\n"
      ],
      "metadata": {
        "id": "z65z5cV5_WKh"
      }
    },
    {
      "cell_type": "markdown",
      "source": [
        "# Mengapa Python?"
      ],
      "metadata": {
        "id": "6i0B8xSY_lZ5"
      }
    },
    {
      "cell_type": "markdown",
      "source": [
        "1. Mudah dipahami\n",
        "2. Grafis & Open Source\n",
        "3. Dinamis\n",
        "4. Memiliki Library Terlengkap untuk Data Sains"
      ],
      "metadata": {
        "id": "rOuTDyvc_oUB"
      }
    },
    {
      "cell_type": "markdown",
      "source": [
        "# Struktur Program pada Python"
      ],
      "metadata": {
        "id": "wlXmP-f3_r1Z"
      }
    },
    {
      "cell_type": "markdown",
      "source": [
        "Python pada umumnya terdiri dari:"
      ],
      "metadata": {
        "id": "khD0iwt8_1Nh"
      }
    },
    {
      "cell_type": "markdown",
      "source": [
        "## 1. Statement"
      ],
      "metadata": {
        "id": "RhYfK60o_78Q"
      }
    },
    {
      "cell_type": "code",
      "source": [
        "print(\"belajar Phyton menyenangkan\")\n",
        "print(\"halo dunia\")"
      ],
      "metadata": {
        "colab": {
          "base_uri": "https://localhost:8080/"
        },
        "id": "jUBKUp7q_-ej",
        "outputId": "9ffcb3de-4e27-4cc8-ecc7-2cfb141086ce"
      },
      "execution_count": 8,
      "outputs": [
        {
          "output_type": "stream",
          "name": "stdout",
          "text": [
            "belajar Phyton menyenangkan\n",
            "halo dunia\n"
          ]
        }
      ]
    },
    {
      "cell_type": "markdown",
      "source": [
        "## 2. Variable"
      ],
      "metadata": {
        "id": "Mh0fnLhrAA5Y"
      }
    },
    {
      "cell_type": "code",
      "source": [
        "bilangan1 = 5\n",
        "bilangan2 = 10\n",
        "kalimat = \"Pejuang Data 3\""
      ],
      "metadata": {
        "id": "jZyX79GFAEX4"
      },
      "execution_count": 7,
      "outputs": []
    },
    {
      "cell_type": "markdown",
      "source": [
        "## 3. Literals"
      ],
      "metadata": {
        "id": "k1cIfMmEAHsh"
      }
    },
    {
      "cell_type": "markdown",
      "source": [
        "Simbol-simbol yang dapat kita gunakan untuk mengisi suatu variable."
      ],
      "metadata": {
        "id": "PXmRFAGmALn5"
      }
    },
    {
      "cell_type": "markdown",
      "source": [
        "## 4. Operators"
      ],
      "metadata": {
        "id": "XkuV88cfAOxB"
      }
    },
    {
      "cell_type": "markdown",
      "source": [
        "Simbol-simbol yang dapat digunakan untuk mengubah nilai dari satu variable\n",
        "dengan melibatkan satu atau lebih variable dan literal"
      ],
      "metadata": {
        "id": "KSTQ1bOUATgB"
      }
    },
    {
      "cell_type": "code",
      "source": [
        "bilangan1 + bilangan2"
      ],
      "metadata": {
        "colab": {
          "base_uri": "https://localhost:8080/"
        },
        "id": "RJ4UKs6sAWoR",
        "outputId": "18bc082d-178f-4b3b-a60a-500718aaad69"
      },
      "execution_count": 9,
      "outputs": [
        {
          "output_type": "execute_result",
          "data": {
            "text/plain": [
              "15"
            ]
          },
          "metadata": {},
          "execution_count": 9
        }
      ]
    },
    {
      "cell_type": "markdown",
      "source": [
        "## 5. Reserved Words"
      ],
      "metadata": {
        "id": "UOb-RkIpAY2x"
      }
    },
    {
      "cell_type": "markdown",
      "source": [
        "Kumpulan kata-kata yang memiliki makna khusus dalam bahasa\n",
        "pemrograman Phyton. Kata false , return , dan for merupakan contoh dari reserved\n",
        "words.\n"
      ],
      "metadata": {
        "id": "_VF1aYsQAdve"
      }
    },
    {
      "cell_type": "markdown",
      "source": [
        "## 6. Whitespace"
      ],
      "metadata": {
        "id": "WJJNXt7IAgip"
      }
    },
    {
      "cell_type": "markdown",
      "source": [
        "Pada bahasa Phyton, spasi dan tab memiliki makna khusus untuk menandai\n",
        "serangkaian blok dalam kode Phyton."
      ],
      "metadata": {
        "id": "rliRgMk0AjUY"
      }
    },
    {
      "cell_type": "markdown",
      "source": [
        "## 7. Comments"
      ],
      "metadata": {
        "id": "9XDWi43jAmt4"
      }
    },
    {
      "cell_type": "markdown",
      "source": [
        "Comments merupakan sekumpulan teks yang dituliskan di dalam sebuah\n",
        "program yang tidak akan mempengaruhi hasil dari sebuah pemrograman."
      ],
      "metadata": {
        "id": "saBwNt1ZAquR"
      }
    },
    {
      "cell_type": "markdown",
      "source": [
        "### Terdapat dua jenis comments di dalam Phyton, yaitu :"
      ],
      "metadata": {
        "id": "RcuGkoywAuUI"
      }
    },
    {
      "cell_type": "markdown",
      "source": [
        "a. single line comment (comments dalam satu baris) seperti contoh berikut :"
      ],
      "metadata": {
        "id": "CTziKvITA22R"
      }
    },
    {
      "cell_type": "code",
      "source": [
        "# Ini adalah Comment\n",
        "print(\"belajar Phyton\")"
      ],
      "metadata": {
        "colab": {
          "base_uri": "https://localhost:8080/"
        },
        "id": "ARJKzyh-AyV4",
        "outputId": "9b75dbe0-1db3-41b4-be4d-c19b24e049c4"
      },
      "execution_count": 10,
      "outputs": [
        {
          "output_type": "stream",
          "name": "stdout",
          "text": [
            "belajar Phyton\n"
          ]
        }
      ]
    },
    {
      "cell_type": "markdown",
      "source": [
        "b. multi line comment (comments dalam beberapa baris) yang dapat dilakukan\n",
        "seperti pada contoh berikut :\n"
      ],
      "metadata": {
        "id": "1iHN_2GXA66w"
      }
    },
    {
      "cell_type": "code",
      "source": [
        "'''\n",
        "Ini adalah komentar panjang\n",
        "Bisa digunakan untuk memberikan penjelasan\n",
        "panjang pada Sell Kode Phyton,\n",
        "Misal dokumentasi program, spesifikasi\n",
        "input output atau lainnya\n",
        "'''\n",
        "print('Belajar Phyton menyenangkan')"
      ],
      "metadata": {
        "colab": {
          "base_uri": "https://localhost:8080/"
        },
        "id": "0Eph9X6iA9np",
        "outputId": "c545e8ce-477e-4cbb-a51a-2aa090788c0b"
      },
      "execution_count": 11,
      "outputs": [
        {
          "output_type": "stream",
          "name": "stdout",
          "text": [
            "Belajar Phyton menyenangkan\n"
          ]
        }
      ]
    }
  ]
}