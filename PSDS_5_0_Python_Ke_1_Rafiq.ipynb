{
  "nbformat": 4,
  "nbformat_minor": 0,
  "metadata": {
    "colab": {
      "provenance": []
    },
    "kernelspec": {
      "name": "python3",
      "display_name": "Python 3"
    },
    "language_info": {
      "name": "python"
    }
  },
  "cells": [
    {
      "cell_type": "markdown",
      "source": [
        "# Operator"
      ],
      "metadata": {
        "id": "TOB346PiEYiV"
      }
    },
    {
      "cell_type": "markdown",
      "source": [
        "Operator simbol simbol yang dapat digunakan untuk mengubah nilai dari satu variabel dengan melibatkan satu atau lebih variabel dan literal.\n",
        "Tipe tipe operator:\n",
        "1. Operator Aritmatika\n",
        "2. Operator Assinment\n",
        "3. Operator Pembanding\n",
        "4. Operator Logika\n",
        "5. Operator Membership"
      ],
      "metadata": {
        "id": "NpeU0axfEa5H"
      }
    },
    {
      "cell_type": "markdown",
      "source": [
        "## Operator Aritmatika"
      ],
      "metadata": {
        "id": "7M0zQtFaE9vE"
      }
    },
    {
      "cell_type": "markdown",
      "source": [
        "Operator Aritmatika digunakan untuk melakukan operasi matematika yang umum.\n",
        "Macam macam operator aritmatika, yaitu:\n",
        "\n",
        "1. (+)  : Penjumlahan\n",
        "2. (-)  : Pengurangan\n",
        "3. (*)  : Perkalian\n",
        "4. (/)  : Pembagian\n",
        "5. (%)  : Modulus\n",
        "6. (**) : Perpangkatan\n",
        "7. (//) : Pembagian dengan hasil pembulatan flooring"
      ],
      "metadata": {
        "id": "UXzsuARlFAYQ"
      }
    },
    {
      "cell_type": "markdown",
      "source": [
        "### Contoh Penggunaan Operator Aritmatika"
      ],
      "metadata": {
        "id": "Q3ok_meqFysX"
      }
    },
    {
      "cell_type": "code",
      "source": [
        "#Penjumlahan\n",
        "print('Penjumlahan')\n",
        "print(2+2)\n",
        "print('-'*20)\n",
        "#Pengurangan\n",
        "print('Pengurangan')\n",
        "print(2-3)\n",
        "print('-'*20)\n",
        "#Perkalian\n",
        "print('Perkalian')\n",
        "print(2*3)\n",
        "print('-'*20)\n",
        "#Pembagian\n",
        "print('Pembagian')\n",
        "print(2/3)\n",
        "print('-'*20)\n",
        "#Modulus\n",
        "print('Modulus')\n",
        "print(3%2)\n",
        "print('-'*20)\n",
        "#Perpangkatan\n",
        "print('Perpangkatan')\n",
        "print(2**3)\n",
        "print('-'*20)\n",
        "#Pembagian dengan hasil pembulatan flooring\n",
        "print('Pembagian pembulatan flooring')\n",
        "print(3//2)\n",
        "print('-'*20)"
      ],
      "metadata": {
        "colab": {
          "base_uri": "https://localhost:8080/"
        },
        "id": "2No-cIq8F6D8",
        "outputId": "51ed3c91-84ad-4c85-da13-de9f4155fe2a"
      },
      "execution_count": 2,
      "outputs": [
        {
          "output_type": "stream",
          "name": "stdout",
          "text": [
            "Penjumlahan\n",
            "4\n",
            "--------------------\n",
            "Pengurangan\n",
            "-1\n",
            "--------------------\n",
            "Perkalian\n",
            "6\n",
            "--------------------\n",
            "Pembagian\n",
            "0.6666666666666666\n",
            "--------------------\n",
            "Modulus\n",
            "1\n",
            "--------------------\n",
            "Perpangkatan\n",
            "8\n",
            "--------------------\n",
            "Pembagian pembulatan flooring\n",
            "1\n",
            "--------------------\n"
          ]
        }
      ]
    },
    {
      "cell_type": "markdown",
      "source": [
        "### Latihan Operator 1"
      ],
      "metadata": {
        "id": "HuZf4lTeHxL6"
      }
    },
    {
      "cell_type": "code",
      "source": [
        "#Buatlah Program penerapan operator Aritmatika\n",
        "#dengan nilai - nilai yang berbeda dari contoh diatas"
      ],
      "metadata": {
        "id": "z-frwsrkIIYv"
      },
      "execution_count": null,
      "outputs": []
    },
    {
      "cell_type": "markdown",
      "source": [
        "### Jawaban"
      ],
      "metadata": {
        "id": "LqnYmSEyIS4R"
      }
    },
    {
      "cell_type": "code",
      "source": [
        "#Penjumlahan\n",
        "print('Penjumlahan')\n",
        "print(4+5)\n",
        "print('-'*20)\n",
        "#Pengurangan\n",
        "print('Pengurangan')\n",
        "print(4-5)\n",
        "print('-'*20)\n",
        "#Perkalian\n",
        "print('Perkalian')\n",
        "print(4*5)\n",
        "print('-'*20)\n",
        "#Pembagian\n",
        "print('Pembagian')\n",
        "print(4/5)\n",
        "print('-'*20)\n",
        "#Modulus\n",
        "print('Modulus')\n",
        "print(5%4)\n",
        "print('-'*20)\n",
        "#Perpangkatan\n",
        "print('Perpangkatan')\n",
        "print(4**5)\n",
        "print('-'*20)\n",
        "#Pembagian dengan hasil pembulatan flooring\n",
        "print('Pembagian pembulatan flooring')\n",
        "print(5//4)\n",
        "print('-'*20)"
      ],
      "metadata": {
        "id": "21Esetl2H1bO"
      },
      "execution_count": null,
      "outputs": []
    },
    {
      "cell_type": "markdown",
      "source": [
        "## Operator Assignment"
      ],
      "metadata": {
        "id": "Wpihph-UIU2w"
      }
    },
    {
      "cell_type": "markdown",
      "source": [
        "Operator Assignment digunakan untuk menyimpan nilai menjadi suatu variabel"
      ],
      "metadata": {
        "id": "P1ZCsleaIYLY"
      }
    },
    {
      "cell_type": "markdown",
      "source": [
        "1. (=)   : Contohnya x = 5      -> x = 5\n",
        "2. (+=)  : Contohnya x = x + 5  -> x += 5\n",
        "3. (-=)  : Contohnya x = x - 5  -> x -= 5\n",
        "4. (*=)  : Contohnya x = x * 5  -> x *= 5\n",
        "5. (/=)  : Contohnya x = x / 5  -> x /= 5\n",
        "6. (%=)  : Contohnya x = x % 5  -> x %= 5\n",
        "7. (//=) : Contohnya x = x // 5 -> x -= 5\n",
        "8. (**=) : Contohnya x = x ** 5 -> x -= 5"
      ],
      "metadata": {
        "id": "ZmrnKfpnIplP"
      }
    },
    {
      "cell_type": "markdown",
      "source": [
        "### Contoh Penggunaan Operator Aritmatika"
      ],
      "metadata": {
        "id": "mSkSXdQYJ0G-"
      }
    },
    {
      "cell_type": "code",
      "source": [
        "#Penjumlahan\n",
        "print('Penjumlahan')\n",
        "x = 5\n",
        "x = x + 5\n",
        "print(x)\n",
        "x = 5\n",
        "x += 3\n",
        "print(x)\n",
        "print('-'*20)\n",
        "\n",
        "#Pengurangan\n",
        "print('Pengurangan')\n",
        "x = 5\n",
        "x = x - 5\n",
        "print(x)\n",
        "x = 5\n",
        "x -= 3\n",
        "print(x)\n",
        "print('-'*20)\n",
        "\n",
        "#Perkalian\n",
        "print('Perkalian')\n",
        "x = 5\n",
        "x = x * 5\n",
        "print(x)\n",
        "x = 5\n",
        "x *= 3\n",
        "print(x)\n",
        "print('-'*20)\n",
        "\n",
        "#Pembagian\n",
        "print('Pembagian')\n",
        "x = 5\n",
        "x = x / 5\n",
        "print(x)\n",
        "x = 5\n",
        "x /= 3\n",
        "print(x)\n",
        "print('-'*20)\n",
        "\n",
        "#Modulus\n",
        "print('Modulus')\n",
        "x = 5\n",
        "x = x % 5\n",
        "print(x)\n",
        "x = 5\n",
        "x %= 3\n",
        "print(x)\n",
        "print('-'*20)\n",
        "\n",
        "#Pembagian Flooring\n",
        "print('Pembagian Flooring')\n",
        "x = 5\n",
        "x = x // 5\n",
        "print(x)\n",
        "x = 5\n",
        "x //= 3\n",
        "print(x)\n",
        "print('-'*20)\n",
        "\n",
        "#Perpangkatan\n",
        "print('Perpangkatan')\n",
        "x = 5\n",
        "x = x ** 5\n",
        "print(x)\n",
        "x = 5\n",
        "x **= 3\n",
        "print(x)\n",
        "print('-'*20)"
      ],
      "metadata": {
        "colab": {
          "base_uri": "https://localhost:8080/"
        },
        "id": "kkp_qGZzJ8aC",
        "outputId": "83737299-3947-4e6f-f3ec-beda121ce0fd"
      },
      "execution_count": 3,
      "outputs": [
        {
          "output_type": "stream",
          "name": "stdout",
          "text": [
            "Penjumlahan\n",
            "10\n",
            "8\n",
            "--------------------\n",
            "Pengurangan\n",
            "0\n",
            "2\n",
            "--------------------\n",
            "Perkalian\n",
            "25\n",
            "15\n",
            "--------------------\n",
            "Pembagian\n",
            "1.0\n",
            "1.6666666666666667\n",
            "--------------------\n",
            "Modulus\n",
            "0\n",
            "2\n",
            "--------------------\n",
            "Pembagian Flooring\n",
            "1\n",
            "1\n",
            "--------------------\n",
            "Perpangkatan\n",
            "3125\n",
            "125\n",
            "--------------------\n"
          ]
        }
      ]
    },
    {
      "cell_type": "markdown",
      "source": [
        "### Latihan Operator 2"
      ],
      "metadata": {
        "id": "zR01HjdOLCnj"
      }
    },
    {
      "cell_type": "code",
      "source": [
        "# Buatlah Program penerapan operator assignment\n",
        "# dengan nilai -nilai yang berbeda dari contoh diatas"
      ],
      "metadata": {
        "id": "aEHBcvHnLGiK"
      },
      "execution_count": null,
      "outputs": []
    },
    {
      "cell_type": "markdown",
      "source": [
        "### Jawaban"
      ],
      "metadata": {
        "id": "zlM3aTcuLR_f"
      }
    },
    {
      "cell_type": "code",
      "source": [
        "#Penjumlahan\n",
        "print('Penjumlahan')\n",
        "x = 4\n",
        "x = x + 4\n",
        "print(x)\n",
        "x = 4\n",
        "x += 4\n",
        "print(x)\n",
        "print('-'*20)\n",
        "\n",
        "#Pengurangan\n",
        "print('Pengurangan')\n",
        "x = 4\n",
        "x = x - 4\n",
        "print(x)\n",
        "x = 4\n",
        "x -= 4\n",
        "print(x)\n",
        "print('-'*20)\n",
        "\n",
        "#Perkalian\n",
        "print('Perkalian')\n",
        "x = 4\n",
        "x = x * 4\n",
        "print(x)\n",
        "x = 4\n",
        "x *= 4\n",
        "print(x)\n",
        "print('-'*20)\n",
        "\n",
        "#Pembagian\n",
        "print('Pembagian')\n",
        "x = 4\n",
        "x = x / 4\n",
        "print(x)\n",
        "x = 4\n",
        "x /= 4\n",
        "print(x)\n",
        "print('-'*20)\n",
        "\n",
        "#Modulus\n",
        "print('Modulus')\n",
        "x = 4\n",
        "x = x % 4\n",
        "print(x)\n",
        "x = 4\n",
        "x %= 4\n",
        "print(x)\n",
        "print('-'*20)\n",
        "\n",
        "#Pembagian Flooring\n",
        "print('Pembagian Flooring')\n",
        "x = 4\n",
        "x = x // 4\n",
        "print(x)\n",
        "x = 4\n",
        "x //= 4\n",
        "print(x)\n",
        "print('-'*20)\n",
        "\n",
        "#Perpangkatan\n",
        "print('Perpangkatan')\n",
        "x = 4\n",
        "x = x ** 4\n",
        "print(x)\n",
        "x = 4\n",
        "x **= 4\n",
        "print(x)\n",
        "print('-'*20)"
      ],
      "metadata": {
        "id": "JdgaLn0SLQ79"
      },
      "execution_count": null,
      "outputs": []
    },
    {
      "cell_type": "markdown",
      "source": [
        "## Operator Pembanding"
      ],
      "metadata": {
        "id": "-It04yGHL1S4"
      }
    },
    {
      "cell_type": "markdown",
      "source": [
        "Operator Pembanding digunakan untuk memandingkan 2 nilai atau variabel\n",
        "Macam macam Operator pembanding:\n",
        "\n",
        "1. (==) -> Samadengan\n",
        "2. (!=) -> Tidak samadengan\n",
        "3. (>)  -> Lebih dari\n",
        "4. (<)  -> Kurang dari\n",
        "5. (>=) -> Lebih dari dan samadengan\n",
        "6. (<=) -> Kurang dari dan samadengan"
      ],
      "metadata": {
        "id": "BAn13fTnL4vR"
      }
    },
    {
      "cell_type": "markdown",
      "source": [
        "### Contoh Penggunaan operator pembanding"
      ],
      "metadata": {
        "id": "f8nQ_hqcMZf2"
      }
    },
    {
      "cell_type": "code",
      "source": [
        "print(2==2)\n",
        "print(2!=2)\n",
        "print(2>2)\n",
        "print(2<2)\n",
        "print(2>=2)\n",
        "print(2<=2)"
      ],
      "metadata": {
        "colab": {
          "base_uri": "https://localhost:8080/"
        },
        "id": "XjgOLHIkMiSO",
        "outputId": "ac36e25b-5b07-4095-8c45-b7b1c7401710"
      },
      "execution_count": 4,
      "outputs": [
        {
          "output_type": "stream",
          "name": "stdout",
          "text": [
            "True\n",
            "False\n",
            "False\n",
            "False\n",
            "True\n",
            "True\n"
          ]
        }
      ]
    },
    {
      "cell_type": "markdown",
      "source": [
        "### Latihan Operator 3"
      ],
      "metadata": {
        "id": "cgXYzojgMnyv"
      }
    },
    {
      "cell_type": "code",
      "source": [
        "# Buatlah program penerapan operator pembanding\n",
        "# dengan nilai nilai yang berbeda dari contoh diatas"
      ],
      "metadata": {
        "id": "PgAogOYZMrB8"
      },
      "execution_count": null,
      "outputs": []
    },
    {
      "cell_type": "markdown",
      "source": [
        "### Jawaban"
      ],
      "metadata": {
        "id": "BpTSwi44M0T2"
      }
    },
    {
      "cell_type": "code",
      "source": [
        "print(4==3)\n",
        "print(4!=3)\n",
        "print(4>3)\n",
        "print(4<3)\n",
        "print(4>=3)\n",
        "print(4<=3)"
      ],
      "metadata": {
        "colab": {
          "base_uri": "https://localhost:8080/"
        },
        "id": "l9MJAkU6M2lp",
        "outputId": "c30e0fee-992d-4820-946b-c0875cdf0a17"
      },
      "execution_count": 7,
      "outputs": [
        {
          "output_type": "stream",
          "name": "stdout",
          "text": [
            "False\n",
            "True\n",
            "True\n",
            "False\n",
            "True\n",
            "False\n"
          ]
        }
      ]
    },
    {
      "cell_type": "markdown",
      "source": [
        "## Operator Logika"
      ],
      "metadata": {
        "id": "FLVOA9PxM9G3"
      }
    },
    {
      "cell_type": "markdown",
      "source": [
        "Operator Logika digunakan untuk mengkombinasikan statement statement kondisional\n",
        "Macam macam operator logika:\n",
        "\n",
        "1. and -> kondisi menjadi benar apabila semua statementnya benar\n",
        "2. or  -> kondisi menjadi benar apabila salah satu statementnya benar\n",
        "3. not -> membalik hasil dari benar ke salah dan salah ke benar"
      ],
      "metadata": {
        "id": "hSr04RjuM-4Y"
      }
    },
    {
      "cell_type": "markdown",
      "source": [
        "### Contoh penggunaan operator logika"
      ],
      "metadata": {
        "id": "zSt-k3WeNfEL"
      }
    },
    {
      "cell_type": "code",
      "source": [
        "print(True and False)\n",
        "print(False or False)\n",
        "print(not False and True)"
      ],
      "metadata": {
        "colab": {
          "base_uri": "https://localhost:8080/"
        },
        "id": "0UCBNgBmNjf1",
        "outputId": "0ddfa809-dbf7-4f3a-92f8-c4b6b8cd166c"
      },
      "execution_count": 5,
      "outputs": [
        {
          "output_type": "stream",
          "name": "stdout",
          "text": [
            "False\n",
            "False\n",
            "True\n"
          ]
        }
      ]
    },
    {
      "cell_type": "markdown",
      "source": [
        "### Latihan operator 4"
      ],
      "metadata": {
        "id": "x0NfnaenNtBf"
      }
    },
    {
      "cell_type": "code",
      "source": [
        "# Buatlah program penerapan operator logika\n",
        "# dengan nilai nilai yang bereda dari contoh diatas"
      ],
      "metadata": {
        "id": "dHb35-PyNv3_"
      },
      "execution_count": null,
      "outputs": []
    },
    {
      "cell_type": "markdown",
      "source": [
        "### Jawaban"
      ],
      "metadata": {
        "id": "hakfLsCSN3Zd"
      }
    },
    {
      "cell_type": "code",
      "source": [
        "print(False and True)\n",
        "print(False or True)\n",
        "print(not False and False)"
      ],
      "metadata": {
        "colab": {
          "base_uri": "https://localhost:8080/"
        },
        "id": "mromhpzpN48j",
        "outputId": "fc27868f-3c0c-4a46-d576-ae68e285a905"
      },
      "execution_count": 6,
      "outputs": [
        {
          "output_type": "stream",
          "name": "stdout",
          "text": [
            "False\n",
            "True\n",
            "False\n"
          ]
        }
      ]
    },
    {
      "cell_type": "markdown",
      "source": [
        "## Operator Membership / Keanggotaan"
      ],
      "metadata": {
        "id": "qmhB1CYSOAYF"
      }
    },
    {
      "cell_type": "markdown",
      "source": [
        "Operator keanggotaan digunakan untuk menguji apakah urutan disajikan dalam suatu objek.\n",
        "Macam macam operator keanggotaan:\n",
        "\n",
        "1. in     -> return True ketika nilai tertentu dalam sebuah urutan ada\n",
        "2. not in -> return True ketika nilai tertentu dalam sebuah urutan tidak ada"
      ],
      "metadata": {
        "id": "uw-_ukTOODWT"
      }
    },
    {
      "cell_type": "markdown",
      "source": [
        "### Contoh penggunaan operator keanggotaan"
      ],
      "metadata": {
        "id": "5k89QZegOYec"
      }
    },
    {
      "cell_type": "code",
      "source": [
        "a = (1, 2, 3, 4, 5, 6)\n",
        "b = 2\n",
        "print(b in a)\n",
        "\n",
        "print('-'*20)\n",
        "\n",
        "a = (1, 2, 3, 4, 5, 6)\n",
        "c = 7\n",
        "print(c not in a)"
      ],
      "metadata": {
        "colab": {
          "base_uri": "https://localhost:8080/"
        },
        "id": "OH-p2oP7OiID",
        "outputId": "4ced0db6-9888-433e-9eda-8f41ca2daa8a"
      },
      "execution_count": 8,
      "outputs": [
        {
          "output_type": "stream",
          "name": "stdout",
          "text": [
            "True\n",
            "--------------------\n",
            "True\n"
          ]
        }
      ]
    },
    {
      "cell_type": "markdown",
      "source": [
        "### Latihan operator 5"
      ],
      "metadata": {
        "id": "B1LxmMxKO21l"
      }
    },
    {
      "cell_type": "code",
      "source": [
        "# Buatlah program penerapan operator keanggotaan membership\n",
        "# dengan nilai-nilai yang berbeda dari contoh diatas"
      ],
      "metadata": {
        "id": "TtNFkOlzO5Yj"
      },
      "execution_count": null,
      "outputs": []
    },
    {
      "cell_type": "markdown",
      "source": [
        "### Jawaban"
      ],
      "metadata": {
        "id": "O0hWSjbzPA_m"
      }
    },
    {
      "cell_type": "code",
      "source": [
        "a = (4, 7, 5, 9, 7, 3,)\n",
        "b = 5\n",
        "print(b in a)\n",
        "\n",
        "print('-'*20)\n",
        "\n",
        "a = (4, 7, 5, 9, 7, 3,)\n",
        "c = 1\n",
        "print(c not in a)"
      ],
      "metadata": {
        "colab": {
          "base_uri": "https://localhost:8080/"
        },
        "id": "jdEwjZbQPArZ",
        "outputId": "44392f4f-00e4-4607-d5d0-bfe71f3b3ed7"
      },
      "execution_count": 10,
      "outputs": [
        {
          "output_type": "stream",
          "name": "stdout",
          "text": [
            "True\n",
            "--------------------\n",
            "True\n"
          ]
        }
      ]
    },
    {
      "cell_type": "markdown",
      "source": [
        "# Variabel"
      ],
      "metadata": {
        "id": "WzLbS7EJPbmX"
      }
    },
    {
      "cell_type": "markdown",
      "source": [
        "Variabel : Lokal penyimpanan yang dapat digunakan untuk menampung sebuah data atau informasi.\n",
        "Syarat syarat penamaan variabel\n",
        "\n",
        "1. Karakter- karekter yang digunakan untuk penamaan variabel adalah alphabet, angka dan underscore.\n",
        "2. Karakter pertama variabel harus berupa huruf atau underscore, dan tidak bisa berupa angka.\n",
        "3. Nama sebuah variabel tidak bisa menggunakan keyword aau reserved words dari bahasa python seperti for, if, dan lainnya.\n",
        "4. Karakter pada nama variabe; bersifat sensitif (case-sensitive).\n"
      ],
      "metadata": {
        "id": "H04kfLItPdf0"
      }
    },
    {
      "cell_type": "code",
      "source": [
        "# Membuat variabel\n",
        "kalimat = \"Ini adalah variabel\"\n",
        "bilangan1 = 4\n",
        "bilangan2 = 2.5\n",
        "bilangan3 = True\n",
        "bilangan4 = 1j + 4"
      ],
      "metadata": {
        "id": "-SEgw2LQQO4b"
      },
      "execution_count": 14,
      "outputs": []
    },
    {
      "cell_type": "code",
      "source": [
        "# Menampilkan variabel\n",
        "print(kalimat)\n",
        "print(bilangan1)\n",
        "print(bilangan2)\n",
        "print(bilangan3)\n",
        "print(bilangan4)"
      ],
      "metadata": {
        "colab": {
          "base_uri": "https://localhost:8080/"
        },
        "id": "d6AT2ry0QbKj",
        "outputId": "6ae37e2f-6522-4b68-c6ab-6df78ccaab4f"
      },
      "execution_count": 15,
      "outputs": [
        {
          "output_type": "stream",
          "name": "stdout",
          "text": [
            "Ini adalah variabel\n",
            "4\n",
            "2.5\n",
            "True\n",
            "(4+1j)\n"
          ]
        }
      ]
    },
    {
      "cell_type": "markdown",
      "source": [
        "### Latihan 1"
      ],
      "metadata": {
        "id": "xTR40O9_DR5c"
      }
    },
    {
      "cell_type": "code",
      "source": [
        "# Buatlah 5 variabel kalian sendiri dengan 5 macam tipe data\n",
        "# lalu tampilkan variabel menggunakan fungsi print"
      ],
      "metadata": {
        "id": "hrNJq5-aROWr"
      },
      "execution_count": null,
      "outputs": []
    },
    {
      "cell_type": "markdown",
      "source": [
        "### Jawaban"
      ],
      "metadata": {
        "id": "N0S5t5X-RWO_"
      }
    },
    {
      "cell_type": "code",
      "source": [
        "kalimat = \"Racing\"\n",
        "bilangan5 = 9\n",
        "bilangan6 = 1.4\n",
        "bilangan7 = False\n",
        "bilangan8 = 8j+7"
      ],
      "metadata": {
        "id": "b-n37kSDC0PH"
      },
      "execution_count": 25,
      "outputs": []
    },
    {
      "cell_type": "code",
      "source": [
        "print(kalimat)\n",
        "print(bilangan5)\n",
        "print(bilangan6)\n",
        "print(bilangan7)\n",
        "print(bilangan8)"
      ],
      "metadata": {
        "colab": {
          "base_uri": "https://localhost:8080/"
        },
        "id": "iN2n22ieDVOq",
        "outputId": "031e379d-3765-4137-d72f-e7a8a3a0c938"
      },
      "execution_count": 26,
      "outputs": [
        {
          "output_type": "stream",
          "name": "stdout",
          "text": [
            "Racing\n",
            "9\n",
            "1.4\n",
            "False\n",
            "(7+8j)\n"
          ]
        }
      ]
    },
    {
      "cell_type": "markdown",
      "source": [
        "## Tipe Data dan Konversi Tipe Data"
      ],
      "metadata": {
        "id": "eudVZr7KQomj"
      }
    },
    {
      "cell_type": "markdown",
      "source": [
        "### Tipe Data"
      ],
      "metadata": {
        "id": "0jti6LMUQtko"
      }
    },
    {
      "cell_type": "markdown",
      "source": [
        "5 tipe data yaitu :\n",
        "1. Integer atau bilangan bulat\n",
        "2. Float atau bilangan desimal\n",
        "3. String atau kalimat\n",
        "4. Boolean yang terdiri dari True dan False\n",
        "5. Complex yang merupakan bilangan kompleks"
      ],
      "metadata": {
        "id": "O02jYlYzQyDq"
      }
    },
    {
      "cell_type": "code",
      "source": [
        "# Menampilkan tipe data\n",
        "print(type(kalimat))\n",
        "print(type(bilangan1))\n",
        "print(type(bilangan2))\n",
        "print(type(bilangan3))\n",
        "print(type(bilangan4))"
      ],
      "metadata": {
        "colab": {
          "base_uri": "https://localhost:8080/"
        },
        "id": "gjJHL2ppRHXw",
        "outputId": "22b71e5b-bab2-4243-a7f4-42e864031300"
      },
      "execution_count": 16,
      "outputs": [
        {
          "output_type": "stream",
          "name": "stdout",
          "text": [
            "<class 'str'>\n",
            "<class 'int'>\n",
            "<class 'float'>\n",
            "<class 'bool'>\n",
            "<class 'complex'>\n"
          ]
        }
      ]
    },
    {
      "cell_type": "markdown",
      "source": [
        "### Latihan 2"
      ],
      "metadata": {
        "id": "ycF1vHx0Dnzy"
      }
    },
    {
      "cell_type": "code",
      "source": [
        "# Cek tipe data variabel yang telah kalian buat pada latihan 1"
      ],
      "metadata": {
        "id": "S_4LmB-NRZB_"
      },
      "execution_count": null,
      "outputs": []
    },
    {
      "cell_type": "markdown",
      "source": [
        "### Jawaban"
      ],
      "metadata": {
        "id": "Jo9wEcP3RfJi"
      }
    },
    {
      "cell_type": "code",
      "source": [
        "print(type(kalimat))\n",
        "print(type(bilangan5))\n",
        "print(type(bilangan6))\n",
        "print(type(bilangan7))\n",
        "print(type(bilangan8))"
      ],
      "metadata": {
        "colab": {
          "base_uri": "https://localhost:8080/"
        },
        "id": "dLM5vgwGDrNN",
        "outputId": "14a0bc6c-6e3c-44c0-d214-f83c3e54c0be"
      },
      "execution_count": null,
      "outputs": [
        {
          "output_type": "stream",
          "name": "stdout",
          "text": [
            "<class 'str'>\n",
            "<class 'int'>\n",
            "<class 'float'>\n",
            "<class 'bool'>\n",
            "<class 'complex'>\n"
          ]
        }
      ]
    },
    {
      "cell_type": "markdown",
      "source": [
        "## Konversi Tipe Data"
      ],
      "metadata": {
        "id": "MHJ8k4HdRiF8"
      }
    },
    {
      "cell_type": "code",
      "source": [
        "# Konversi tipe data integer\n",
        "print(int(bilangan2))\n",
        "print(int(bilangan3))"
      ],
      "metadata": {
        "colab": {
          "base_uri": "https://localhost:8080/"
        },
        "id": "AA-0J_KtRoIN",
        "outputId": "c0b56c04-80c8-4131-deb2-d3793d98768d"
      },
      "execution_count": 17,
      "outputs": [
        {
          "output_type": "stream",
          "name": "stdout",
          "text": [
            "2\n",
            "1\n"
          ]
        }
      ]
    },
    {
      "cell_type": "code",
      "source": [
        "# Konversi tipe data float\n",
        "print(float(bilangan1))\n",
        "print(float(bilangan3))"
      ],
      "metadata": {
        "colab": {
          "base_uri": "https://localhost:8080/"
        },
        "id": "f-95f_CRRutZ",
        "outputId": "6a735e62-2b6d-452c-9044-ed3d8e176b4b"
      },
      "execution_count": 18,
      "outputs": [
        {
          "output_type": "stream",
          "name": "stdout",
          "text": [
            "4.0\n",
            "1.0\n"
          ]
        }
      ]
    },
    {
      "cell_type": "code",
      "source": [
        "# Konversi tipe data string\n",
        "print(str(bilangan1))\n",
        "print(str(bilangan2))\n",
        "print(str(bilangan3))"
      ],
      "metadata": {
        "colab": {
          "base_uri": "https://localhost:8080/"
        },
        "id": "D5t4O_LcR1eH",
        "outputId": "20805a12-5f55-4eed-ef78-c83d84b504a4"
      },
      "execution_count": 19,
      "outputs": [
        {
          "output_type": "stream",
          "name": "stdout",
          "text": [
            "4\n",
            "2.5\n",
            "True\n"
          ]
        }
      ]
    },
    {
      "cell_type": "code",
      "source": [
        "# Konversi tipe data bool\n",
        "print(bool(bilangan1))\n",
        "print(bool(bilangan2))"
      ],
      "metadata": {
        "colab": {
          "base_uri": "https://localhost:8080/"
        },
        "id": "4ciEiatzSCsT",
        "outputId": "e32b079a-db31-4721-83c7-2c44c40d8089"
      },
      "execution_count": 21,
      "outputs": [
        {
          "output_type": "stream",
          "name": "stdout",
          "text": [
            "True\n",
            "True\n"
          ]
        }
      ]
    },
    {
      "cell_type": "code",
      "source": [
        "# Konversi tipe data complex\n",
        "print(complex(bilangan1))\n",
        "print(complex(bilangan2))\n",
        "print(complex(bilangan3))"
      ],
      "metadata": {
        "colab": {
          "base_uri": "https://localhost:8080/"
        },
        "id": "6KlDjQVUSKLZ",
        "outputId": "8e71685b-2b20-48ec-817e-16aaa3a0b759"
      },
      "execution_count": 22,
      "outputs": [
        {
          "output_type": "stream",
          "name": "stdout",
          "text": [
            "(4+0j)\n",
            "(2.5+0j)\n",
            "(1+0j)\n"
          ]
        }
      ]
    },
    {
      "cell_type": "markdown",
      "source": [
        "### Latihan 3"
      ],
      "metadata": {
        "id": "7VK1zovED8Zx"
      }
    },
    {
      "cell_type": "code",
      "source": [
        "print(int(bilangan5))\n",
        "print(int(bilangan6))\n",
        "print(int(bilangan7))"
      ],
      "metadata": {
        "colab": {
          "base_uri": "https://localhost:8080/"
        },
        "id": "r20zfVwjD7vE",
        "outputId": "c01232a7-9989-46d5-98eb-a8d08b25927d"
      },
      "execution_count": null,
      "outputs": [
        {
          "output_type": "stream",
          "name": "stdout",
          "text": [
            "9\n",
            "1\n",
            "0\n"
          ]
        }
      ]
    },
    {
      "cell_type": "code",
      "source": [
        "print(float(bilangan5))\n",
        "print(float(bilangan6))\n",
        "print(float(bilangan7))"
      ],
      "metadata": {
        "colab": {
          "base_uri": "https://localhost:8080/"
        },
        "id": "BUr7uPkTEVX5",
        "outputId": "0da9cffb-c2e6-434d-b20d-753b67b5f10a"
      },
      "execution_count": null,
      "outputs": [
        {
          "output_type": "stream",
          "name": "stdout",
          "text": [
            "9.0\n",
            "1.4\n",
            "0.0\n"
          ]
        }
      ]
    },
    {
      "cell_type": "code",
      "source": [
        "print(str(bilangan5))\n",
        "print(str(bilangan6))\n",
        "print(str(bilangan7))"
      ],
      "metadata": {
        "colab": {
          "base_uri": "https://localhost:8080/"
        },
        "id": "Jwg59QCFSV7N",
        "outputId": "12d70ada-0e00-47aa-e41a-7fc322a1ce7a"
      },
      "execution_count": 27,
      "outputs": [
        {
          "output_type": "stream",
          "name": "stdout",
          "text": [
            "9\n",
            "1.4\n",
            "False\n"
          ]
        }
      ]
    },
    {
      "cell_type": "code",
      "source": [
        "print(bool(bilangan5))\n",
        "print(bool(bilangan6))\n",
        "print(bool(bilangan7))"
      ],
      "metadata": {
        "colab": {
          "base_uri": "https://localhost:8080/"
        },
        "id": "3TztMY9NEgXr",
        "outputId": "addd7d50-20e9-4191-fabe-61f7e038036c"
      },
      "execution_count": 28,
      "outputs": [
        {
          "output_type": "stream",
          "name": "stdout",
          "text": [
            "True\n",
            "True\n",
            "False\n"
          ]
        }
      ]
    },
    {
      "cell_type": "code",
      "source": [
        "print(complex(bilangan5))\n",
        "print(complex(bilangan6))\n",
        "print(complex(bilangan8))"
      ],
      "metadata": {
        "colab": {
          "base_uri": "https://localhost:8080/"
        },
        "id": "34RDTjSSEujk",
        "outputId": "77ce25f8-27b3-4af9-ac6a-2862c7e16869"
      },
      "execution_count": 29,
      "outputs": [
        {
          "output_type": "stream",
          "name": "stdout",
          "text": [
            "(9+0j)\n",
            "(1.4+0j)\n",
            "(7+8j)\n"
          ]
        }
      ]
    }
  ]
}